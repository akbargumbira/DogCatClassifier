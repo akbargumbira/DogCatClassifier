{
 "cells": [
  {
   "cell_type": "code",
   "execution_count": 31,
   "metadata": {},
   "outputs": [
    {
     "data": {
      "text/plain": [
       "[{'auc': 0.8586552788377088,\n",
       "  'param': {'activation': 'relu',\n",
       "   'batch_size': 122.28225629613607,\n",
       "   'choice': {'layers': 'two'},\n",
       "   'codebook': 'sift_500',\n",
       "   'dropout1': 0.7499998682813903,\n",
       "   'dropout2': 0.3780638891568126,\n",
       "   'nb_epochs': 100,\n",
       "   'optimizer': 'adadelta',\n",
       "   'units1': 900.5967231318848,\n",
       "   'units2': 609.6411067027673}},\n",
       " {'auc': 0.8582438299195613,\n",
       "  'param': {'activation': 'relu',\n",
       "   'batch_size': 111.11749919362806,\n",
       "   'choice': {'layers': 'two'},\n",
       "   'codebook': 'sift_500',\n",
       "   'dropout1': 0.7079498623605327,\n",
       "   'dropout2': 0.2880625332398632,\n",
       "   'nb_epochs': 100,\n",
       "   'optimizer': 'adadelta',\n",
       "   'units1': 906.9887870108182,\n",
       "   'units2': 145.91716950014649}},\n",
       " {'auc': 0.8581820343596114,\n",
       "  'param': {'activation': 'relu',\n",
       "   'batch_size': 103.44219770280806,\n",
       "   'choice': {'layers': 'two'},\n",
       "   'codebook': 'sift_500',\n",
       "   'dropout1': 0.7218783663336283,\n",
       "   'dropout2': 0.3367369268830096,\n",
       "   'nb_epochs': 100,\n",
       "   'optimizer': 'adadelta',\n",
       "   'units1': 818.3636556912603,\n",
       "   'units2': 831.097547001342}},\n",
       " {'auc': 0.8580457854610336,\n",
       "  'param': {'activation': 'relu',\n",
       "   'batch_size': 123.49903725563921,\n",
       "   'choice': {'layers': 'two'},\n",
       "   'codebook': 'sift_500',\n",
       "   'dropout1': 0.7280708457303362,\n",
       "   'dropout2': 0.2797361049920858,\n",
       "   'nb_epochs': 100,\n",
       "   'optimizer': 'adadelta',\n",
       "   'units1': 998.6272062047962,\n",
       "   'units2': 669.7812282342011}},\n",
       " {'auc': 0.8578823010049635,\n",
       "  'param': {'activation': 'relu',\n",
       "   'batch_size': 121.9110471215568,\n",
       "   'choice': {'layers': 'two'},\n",
       "   'codebook': 'sift_500',\n",
       "   'dropout1': 0.6568253753650072,\n",
       "   'dropout2': 0.2513522806115377,\n",
       "   'nb_epochs': 100,\n",
       "   'optimizer': 'adadelta',\n",
       "   'units1': 725.1392961487878,\n",
       "   'units2': 703.5362245657878}}]"
      ]
     },
     "execution_count": 31,
     "metadata": {},
     "output_type": "execute_result"
    }
   ],
   "source": [
    "# Read the log and store in a data structure\n",
    "import ast\n",
    "\n",
    "log_filename = '../log_hyperparameter_opt.txt'\n",
    "with open(log_filename) as f:\n",
    "    content = f.readlines()\n",
    "content = [x.strip() for x in content] \n",
    "\n",
    "hyperparameters = []\n",
    "for i in range(1000):\n",
    "    params = {}\n",
    "    params['param'] = ast.literal_eval(content[2*i])[1]\n",
    "    params['auc'] = ast.literal_eval(content[2*i + 1])[1]\n",
    "    hyperparameters.append(params)\n",
    "    \n",
    "# Sort it with auc\n",
    "hyperparameters = sorted(hyperparameters, key=lambda k: k['auc'], reverse=True) \n",
    "\n",
    "hyperparameters[:5]"
   ]
  }
 ],
 "metadata": {
  "kernelspec": {
   "display_name": "Python 2",
   "language": "python",
   "name": "python2"
  },
  "language_info": {
   "codemirror_mode": {
    "name": "ipython",
    "version": 2
   },
   "file_extension": ".py",
   "mimetype": "text/x-python",
   "name": "python",
   "nbconvert_exporter": "python",
   "pygments_lexer": "ipython2",
   "version": "2.7.12"
  }
 },
 "nbformat": 4,
 "nbformat_minor": 1
}
